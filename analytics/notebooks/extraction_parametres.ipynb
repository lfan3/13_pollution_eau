{
 "cells": [
  {
   "cell_type": "code",
   "execution_count": 1,
   "metadata": {},
   "outputs": [],
   "source": [
    "import duckdb\n",
    "from pipelines.tasks._common import DUCKDB_FILE\n",
    "\n",
    "con = duckdb.connect(database=DUCKDB_FILE, read_only=True)"
   ]
  },
  {
   "cell_type": "code",
   "execution_count": 2,
   "metadata": {},
   "outputs": [
    {
     "data": {
      "text/html": [
       "<span style=\"None\">The &#x27;toml&#x27; package isn&#x27;t installed. To load settings from pyproject.toml or ~/.jupysql/config, install with: pip install toml</span>"
      ],
      "text/plain": [
       "The 'toml' package isn't installed. To load settings from pyproject.toml or ~/.jupysql/config, install with: pip install toml"
      ]
     },
     "metadata": {},
     "output_type": "display_data"
    },
    {
     "data": {
      "text/html": [
       "<span style=\"None\">Connecting to &#x27;duckdb:///../../database/data.duckdb&#x27;</span>"
      ],
      "text/plain": [
       "Connecting to 'duckdb:///../../database/data.duckdb'"
      ]
     },
     "metadata": {},
     "output_type": "display_data"
    }
   ],
   "source": [
    "%load_ext sql\n",
    "%sql duckdb:///../../database/data.duckdb\n",
    "%config SqlMagic.displaylimit = 10"
   ]
  },
  {
   "cell_type": "code",
   "execution_count": 3,
   "metadata": {},
   "outputs": [
    {
     "data": {
      "text/html": [
       "<span style=\"None\">Running query in &#x27;duckdb:///../../database/data.duckdb&#x27;</span>"
      ],
      "text/plain": [
       "Running query in 'duckdb:///../../database/data.duckdb'"
      ]
     },
     "metadata": {},
     "output_type": "display_data"
    },
    {
     "data": {
      "text/html": [
       "<table>\n",
       "    <thead>\n",
       "        <tr>\n",
       "            <th>de_partition</th>\n",
       "        </tr>\n",
       "    </thead>\n",
       "    <tbody>\n",
       "        <tr>\n",
       "            <td>2022</td>\n",
       "        </tr>\n",
       "        <tr>\n",
       "            <td>2023</td>\n",
       "        </tr>\n",
       "        <tr>\n",
       "            <td>2024</td>\n",
       "        </tr>\n",
       "        <tr>\n",
       "            <td>2020</td>\n",
       "        </tr>\n",
       "        <tr>\n",
       "            <td>2021</td>\n",
       "        </tr>\n",
       "    </tbody>\n",
       "</table>"
      ],
      "text/plain": [
       "+--------------+\n",
       "| de_partition |\n",
       "+--------------+\n",
       "|     2022     |\n",
       "|     2023     |\n",
       "|     2024     |\n",
       "|     2020     |\n",
       "|     2021     |\n",
       "+--------------+"
      ]
     },
     "execution_count": 3,
     "metadata": {},
     "output_type": "execute_result"
    }
   ],
   "source": [
    "%sql select distinct de_partition from edc_resultats;\n",
    "\n",
    "# petite vérification des années importées dans la BDD"
   ]
  },
  {
   "cell_type": "markdown",
   "metadata": {},
   "source": [
    "## Première solution\n",
    "\n",
    "On compte le nombre de fois que chaque paramètre est apparu sur les années 2020-2024. Pour cela, on garde l'unicité sur ces colonnes:\n",
    "\n",
    "- cdparametresiseeaux : Code SISE-Eaux du paramètre\n",
    "- cdparametre : Code SANDRE du paramètre\n",
    "- libmajparametre : Nom du paramètre en majuscule\n",
    "- libminparametre : Nom du paramètre en minuscule\n",
    "- casparam : Code CAS du paramètre\n",
    "\n",
    "Et un fait un simple compte.\n"
   ]
  },
  {
   "cell_type": "code",
   "execution_count": 4,
   "metadata": {},
   "outputs": [
    {
     "data": {
      "text/html": [
       "<span style=\"None\">Running query in &#x27;duckdb:///../../database/data.duckdb&#x27;</span>"
      ],
      "text/plain": [
       "Running query in 'duckdb:///../../database/data.duckdb'"
      ]
     },
     "metadata": {},
     "output_type": "display_data"
    }
   ],
   "source": [
    "%%sql result1 <<\n",
    "SELECT\n",
    "    cdparametresiseeaux, cdparametre, libmajparametre, libminparametre, casparam, COUNT(*) as count\n",
    "FROM edc_resultats\n",
    "GROUP BY cdparametresiseeaux, cdparametre, libmajparametre, libminparametre, casparam\n",
    "ORDER BY count DESC;"
   ]
  },
  {
   "cell_type": "code",
   "execution_count": 5,
   "metadata": {},
   "outputs": [
    {
     "data": {
      "text/html": [
       "<table>\n",
       "    <thead>\n",
       "        <tr>\n",
       "            <th>cdparametresiseeaux</th>\n",
       "            <th>cdparametre</th>\n",
       "            <th>libmajparametre</th>\n",
       "            <th>libminparametre</th>\n",
       "            <th>casparam</th>\n",
       "            <th>count</th>\n",
       "        </tr>\n",
       "    </thead>\n",
       "    <tbody>\n",
       "        <tr>\n",
       "            <td>PH</td>\n",
       "            <td>1302</td>\n",
       "            <td>PH </td>\n",
       "            <td>pH</td>\n",
       "            <td>None</td>\n",
       "            <td>1742021</td>\n",
       "        </tr>\n",
       "        <tr>\n",
       "            <td>CDT25</td>\n",
       "            <td>1303</td>\n",
       "            <td>CONDUCTIVITÉ À 25°C</td>\n",
       "            <td>Conductivité à 25°C</td>\n",
       "            <td>None</td>\n",
       "            <td>1367240</td>\n",
       "        </tr>\n",
       "        <tr>\n",
       "            <td>TEAU</td>\n",
       "            <td>1301</td>\n",
       "            <td>TEMPÉRATURE DE L'EAU</td>\n",
       "            <td>Température de l'eau</td>\n",
       "            <td>None</td>\n",
       "            <td>1334050</td>\n",
       "        </tr>\n",
       "        <tr>\n",
       "            <td>STRF</td>\n",
       "            <td>6455</td>\n",
       "            <td>ENTÉROCOQUES /100ML-MS</td>\n",
       "            <td>Entérocoques /100ml-MS</td>\n",
       "            <td>None</td>\n",
       "            <td>1316301</td>\n",
       "        </tr>\n",
       "        <tr>\n",
       "            <td>ECOLI</td>\n",
       "            <td>1449</td>\n",
       "            <td>ESCHERICHIA COLI /100ML - MF</td>\n",
       "            <td>Escherichia coli /100ml - MF</td>\n",
       "            <td>None</td>\n",
       "            <td>1316287</td>\n",
       "        </tr>\n",
       "        <tr>\n",
       "            <td>CTF</td>\n",
       "            <td>1447</td>\n",
       "            <td>BACTÉRIES COLIFORMES /100ML-MS</td>\n",
       "            <td>Bactéries coliformes /100ml-MS</td>\n",
       "            <td>None</td>\n",
       "            <td>1315825</td>\n",
       "        </tr>\n",
       "        <tr>\n",
       "            <td>TURBNFU</td>\n",
       "            <td>1295</td>\n",
       "            <td>TURBIDITÉ NÉPHÉLOMÉTRIQUE NFU</td>\n",
       "            <td>Turbidité néphélométrique NFU</td>\n",
       "            <td>None</td>\n",
       "            <td>1313954</td>\n",
       "        </tr>\n",
       "        <tr>\n",
       "            <td>CL2LIB</td>\n",
       "            <td>1398</td>\n",
       "            <td>CHLORE LIBRE</td>\n",
       "            <td>Chlore libre</td>\n",
       "            <td>None</td>\n",
       "            <td>1310664</td>\n",
       "        </tr>\n",
       "        <tr>\n",
       "            <td>GT36_44</td>\n",
       "            <td>5441</td>\n",
       "            <td>BACT. AÉR. REVIVIFIABLES À 36°-44H</td>\n",
       "            <td>Bact. aér. revivifiables à 36°-44h</td>\n",
       "            <td>None</td>\n",
       "            <td>1308998</td>\n",
       "        </tr>\n",
       "        <tr>\n",
       "            <td>GT22_68</td>\n",
       "            <td>5440</td>\n",
       "            <td>BACT. AÉR. REVIVIFIABLES À 22°-68H</td>\n",
       "            <td>Bact. aér. revivifiables à 22°-68h</td>\n",
       "            <td>None</td>\n",
       "            <td>1306806</td>\n",
       "        </tr>\n",
       "    </tbody>\n",
       "</table>\n",
       "<span style=\"font-style:italic;text-align:center;\">Truncated to <a href=\"https://jupysql.ploomber.io/en/latest/api/configuration.html#displaylimit\">displaylimit</a> of 10.</span>"
      ],
      "text/plain": [
       "+---------------------+-------------+------------------------------------+------------------------------------+----------+---------+\n",
       "| cdparametresiseeaux | cdparametre |          libmajparametre           |          libminparametre           | casparam |  count  |\n",
       "+---------------------+-------------+------------------------------------+------------------------------------+----------+---------+\n",
       "|          PH         |     1302    |                PH                  |                 pH                 |   None   | 1742021 |\n",
       "|        CDT25        |     1303    |        CONDUCTIVITÉ À 25°C         |        Conductivité à 25°C         |   None   | 1367240 |\n",
       "|         TEAU        |     1301    |        TEMPÉRATURE DE L'EAU        |        Température de l'eau        |   None   | 1334050 |\n",
       "|         STRF        |     6455    |       ENTÉROCOQUES /100ML-MS       |       Entérocoques /100ml-MS       |   None   | 1316301 |\n",
       "|        ECOLI        |     1449    |    ESCHERICHIA COLI /100ML - MF    |    Escherichia coli /100ml - MF    |   None   | 1316287 |\n",
       "|         CTF         |     1447    |   BACTÉRIES COLIFORMES /100ML-MS   |   Bactéries coliformes /100ml-MS   |   None   | 1315825 |\n",
       "|       TURBNFU       |     1295    |   TURBIDITÉ NÉPHÉLOMÉTRIQUE NFU    |   Turbidité néphélométrique NFU    |   None   | 1313954 |\n",
       "|        CL2LIB       |     1398    |            CHLORE LIBRE            |            Chlore libre            |   None   | 1310664 |\n",
       "|       GT36_44       |     5441    | BACT. AÉR. REVIVIFIABLES À 36°-44H | Bact. aér. revivifiables à 36°-44h |   None   | 1308998 |\n",
       "|       GT22_68       |     5440    | BACT. AÉR. REVIVIFIABLES À 22°-68H | Bact. aér. revivifiables à 22°-68h |   None   | 1306806 |\n",
       "+---------------------+-------------+------------------------------------+------------------------------------+----------+---------+\n",
       "Truncated to displaylimit of 10."
      ]
     },
     "execution_count": 5,
     "metadata": {},
     "output_type": "execute_result"
    }
   ],
   "source": [
    "result1  # noqa: F821"
   ]
  },
  {
   "cell_type": "markdown",
   "metadata": {},
   "source": [
    "Et maintenant la même chose mais on distingue année par année. Peut être utile pour voir l'évolution des paramètres.\n"
   ]
  },
  {
   "cell_type": "code",
   "execution_count": 6,
   "metadata": {},
   "outputs": [
    {
     "data": {
      "text/html": [
       "<span style=\"None\">Running query in &#x27;duckdb:///../../database/data.duckdb&#x27;</span>"
      ],
      "text/plain": [
       "Running query in 'duckdb:///../../database/data.duckdb'"
      ]
     },
     "metadata": {},
     "output_type": "display_data"
    }
   ],
   "source": [
    "%%sql result2 <<\n",
    "SELECT\n",
    "    de_partition , cdparametresiseeaux, cdparametre, libmajparametre, libminparametre, casparam, COUNT(*) as count\n",
    "FROM edc_resultats\n",
    "GROUP BY de_partition , cdparametresiseeaux, cdparametre, libmajparametre, libminparametre, casparam\n",
    "ORDER BY de_partition, count DESC;"
   ]
  },
  {
   "cell_type": "code",
   "execution_count": 7,
   "metadata": {},
   "outputs": [
    {
     "data": {
      "text/html": [
       "<table>\n",
       "    <thead>\n",
       "        <tr>\n",
       "            <th>de_partition</th>\n",
       "            <th>cdparametresiseeaux</th>\n",
       "            <th>cdparametre</th>\n",
       "            <th>libmajparametre</th>\n",
       "            <th>libminparametre</th>\n",
       "            <th>casparam</th>\n",
       "            <th>count</th>\n",
       "        </tr>\n",
       "    </thead>\n",
       "    <tbody>\n",
       "        <tr>\n",
       "            <td>2020</td>\n",
       "            <td>PH</td>\n",
       "            <td>1302</td>\n",
       "            <td>PH </td>\n",
       "            <td>pH</td>\n",
       "            <td>None</td>\n",
       "            <td>338110</td>\n",
       "        </tr>\n",
       "        <tr>\n",
       "            <td>2020</td>\n",
       "            <td>CDT25</td>\n",
       "            <td>1303</td>\n",
       "            <td>CONDUCTIVITÉ À 25°C</td>\n",
       "            <td>Conductivité à 25°C</td>\n",
       "            <td>None</td>\n",
       "            <td>263505</td>\n",
       "        </tr>\n",
       "        <tr>\n",
       "            <td>2020</td>\n",
       "            <td>TEAU</td>\n",
       "            <td>1301</td>\n",
       "            <td>TEMPÉRATURE DE L'EAU</td>\n",
       "            <td>Température de l'eau</td>\n",
       "            <td>None</td>\n",
       "            <td>262440</td>\n",
       "        </tr>\n",
       "        <tr>\n",
       "            <td>2020</td>\n",
       "            <td>ECOLI</td>\n",
       "            <td>1449</td>\n",
       "            <td>ESCHERICHIA COLI /100ML - MF</td>\n",
       "            <td>Escherichia coli /100ml - MF</td>\n",
       "            <td>None</td>\n",
       "            <td>257230</td>\n",
       "        </tr>\n",
       "        <tr>\n",
       "            <td>2020</td>\n",
       "            <td>STRF</td>\n",
       "            <td>6455</td>\n",
       "            <td>ENTÉROCOQUES /100ML-MS</td>\n",
       "            <td>Entérocoques /100ml-MS</td>\n",
       "            <td>None</td>\n",
       "            <td>257229</td>\n",
       "        </tr>\n",
       "        <tr>\n",
       "            <td>2020</td>\n",
       "            <td>CTF</td>\n",
       "            <td>1447</td>\n",
       "            <td>BACTÉRIES COLIFORMES /100ML-MS</td>\n",
       "            <td>Bactéries coliformes /100ml-MS</td>\n",
       "            <td>None</td>\n",
       "            <td>257158</td>\n",
       "        </tr>\n",
       "        <tr>\n",
       "            <td>2020</td>\n",
       "            <td>TURBNFU</td>\n",
       "            <td>1295</td>\n",
       "            <td>TURBIDITÉ NÉPHÉLOMÉTRIQUE NFU</td>\n",
       "            <td>Turbidité néphélométrique NFU</td>\n",
       "            <td>None</td>\n",
       "            <td>256959</td>\n",
       "        </tr>\n",
       "        <tr>\n",
       "            <td>2020</td>\n",
       "            <td>ODQ</td>\n",
       "            <td>5901</td>\n",
       "            <td>ODEUR (QUALITATIF)</td>\n",
       "            <td>Odeur (qualitatif)</td>\n",
       "            <td>None</td>\n",
       "            <td>254069</td>\n",
       "        </tr>\n",
       "        <tr>\n",
       "            <td>2020</td>\n",
       "            <td>GT36_44</td>\n",
       "            <td>5441</td>\n",
       "            <td>BACT. AÉR. REVIVIFIABLES À 36°-44H</td>\n",
       "            <td>Bact. aér. revivifiables à 36°-44h</td>\n",
       "            <td>None</td>\n",
       "            <td>253182</td>\n",
       "        </tr>\n",
       "        <tr>\n",
       "            <td>2020</td>\n",
       "            <td>CL2LIB</td>\n",
       "            <td>1398</td>\n",
       "            <td>CHLORE LIBRE</td>\n",
       "            <td>Chlore libre</td>\n",
       "            <td>None</td>\n",
       "            <td>253105</td>\n",
       "        </tr>\n",
       "    </tbody>\n",
       "</table>\n",
       "<span style=\"font-style:italic;text-align:center;\">Truncated to <a href=\"https://jupysql.ploomber.io/en/latest/api/configuration.html#displaylimit\">displaylimit</a> of 10.</span>"
      ],
      "text/plain": [
       "+--------------+---------------------+-------------+------------------------------------+------------------------------------+----------+--------+\n",
       "| de_partition | cdparametresiseeaux | cdparametre |          libmajparametre           |          libminparametre           | casparam | count  |\n",
       "+--------------+---------------------+-------------+------------------------------------+------------------------------------+----------+--------+\n",
       "|     2020     |          PH         |     1302    |                PH                  |                 pH                 |   None   | 338110 |\n",
       "|     2020     |        CDT25        |     1303    |        CONDUCTIVITÉ À 25°C         |        Conductivité à 25°C         |   None   | 263505 |\n",
       "|     2020     |         TEAU        |     1301    |        TEMPÉRATURE DE L'EAU        |        Température de l'eau        |   None   | 262440 |\n",
       "|     2020     |        ECOLI        |     1449    |    ESCHERICHIA COLI /100ML - MF    |    Escherichia coli /100ml - MF    |   None   | 257230 |\n",
       "|     2020     |         STRF        |     6455    |       ENTÉROCOQUES /100ML-MS       |       Entérocoques /100ml-MS       |   None   | 257229 |\n",
       "|     2020     |         CTF         |     1447    |   BACTÉRIES COLIFORMES /100ML-MS   |   Bactéries coliformes /100ml-MS   |   None   | 257158 |\n",
       "|     2020     |       TURBNFU       |     1295    |   TURBIDITÉ NÉPHÉLOMÉTRIQUE NFU    |   Turbidité néphélométrique NFU    |   None   | 256959 |\n",
       "|     2020     |         ODQ         |     5901    |         ODEUR (QUALITATIF)         |         Odeur (qualitatif)         |   None   | 254069 |\n",
       "|     2020     |       GT36_44       |     5441    | BACT. AÉR. REVIVIFIABLES À 36°-44H | Bact. aér. revivifiables à 36°-44h |   None   | 253182 |\n",
       "|     2020     |        CL2LIB       |     1398    |            CHLORE LIBRE            |            Chlore libre            |   None   | 253105 |\n",
       "+--------------+---------------------+-------------+------------------------------------+------------------------------------+----------+--------+\n",
       "Truncated to displaylimit of 10."
      ]
     },
     "execution_count": 7,
     "metadata": {},
     "output_type": "execute_result"
    }
   ],
   "source": [
    "result2  # noqa: F821"
   ]
  },
  {
   "cell_type": "markdown",
   "metadata": {},
   "source": [
    "## Deuxième solution\n",
    "\n",
    "On va rajouter le nombre de communes distincts sur lesquels chaque paramètre est apparu.\n",
    "\n",
    "On va devoir faire une jointure entre la table `edc_resultats` et la table `edc_prelevements` pour récupérer la colonne `inseecommuneprinc`. Or, la relation entre ces deux tables semble N-N (du moins, 1 `referenceprel` dans `edc_resultats` peut correspondre à plusieurs `referenceprel` dans `edc_prelevements`). On va donc aggréger les données de `edc_prelevements` avant la jointure et faire des comptages pour vérifier le join.\n"
   ]
  },
  {
   "cell_type": "code",
   "execution_count": 8,
   "metadata": {},
   "outputs": [
    {
     "data": {
      "text/html": [
       "<span style=\"None\">Running query in &#x27;duckdb:///../../database/data.duckdb&#x27;</span>"
      ],
      "text/plain": [
       "Running query in 'duckdb:///../../database/data.duckdb'"
      ]
     },
     "metadata": {},
     "output_type": "display_data"
    },
    {
     "data": {
      "text/html": [
       "<table>\n",
       "    <thead>\n",
       "        <tr>\n",
       "            <th>count_star()</th>\n",
       "        </tr>\n",
       "    </thead>\n",
       "    <tbody>\n",
       "        <tr>\n",
       "            <td>64164498</td>\n",
       "        </tr>\n",
       "    </tbody>\n",
       "</table>"
      ],
      "text/plain": [
       "+--------------+\n",
       "| count_star() |\n",
       "+--------------+\n",
       "|   64164498   |\n",
       "+--------------+"
      ]
     },
     "execution_count": 8,
     "metadata": {},
     "output_type": "execute_result"
    }
   ],
   "source": [
    "%%sql\n",
    "\n",
    "select count(*) from (select * from edc_resultats)\n",
    "\n",
    "# on compte le nombre de lignes dans la tabble ; on veut le même nombre après notre join"
   ]
  },
  {
   "cell_type": "code",
   "execution_count": 9,
   "metadata": {},
   "outputs": [
    {
     "data": {
      "text/html": [
       "<span style=\"None\">Running query in &#x27;duckdb:///../../database/data.duckdb&#x27;</span>"
      ],
      "text/plain": [
       "Running query in 'duckdb:///../../database/data.duckdb'"
      ]
     },
     "metadata": {},
     "output_type": "display_data"
    },
    {
     "data": {
      "text/html": [
       "<table>\n",
       "    <thead>\n",
       "        <tr>\n",
       "            <th>count_star()</th>\n",
       "        </tr>\n",
       "    </thead>\n",
       "    <tbody>\n",
       "        <tr>\n",
       "            <td>64164498</td>\n",
       "        </tr>\n",
       "    </tbody>\n",
       "</table>"
      ],
      "text/plain": [
       "+--------------+\n",
       "| count_star() |\n",
       "+--------------+\n",
       "|   64164498   |\n",
       "+--------------+"
      ]
     },
     "execution_count": 9,
     "metadata": {},
     "output_type": "execute_result"
    }
   ],
   "source": [
    "%%sql\n",
    "\n",
    "select count(*) from (\n",
    "    with prelevements_unique as (\n",
    "        select\n",
    "            de_partition,\n",
    "            referenceprel,\n",
    "            inseecommuneprinc\n",
    "        from edc_prelevements\n",
    "        group by de_partition, referenceprel, inseecommuneprinc\n",
    "    )\n",
    "    select\n",
    "        *\n",
    "    from edc_resultats\n",
    "    left join prelevements_unique on\n",
    "        edc_resultats.referenceprel = prelevements_unique.referenceprel\n",
    "        and edc_resultats.de_partition = prelevements_unique.de_partition\n",
    ")\n",
    "\n",
    "# on fait un group by et un join, on vériie que le nombre de lignes est le même"
   ]
  },
  {
   "cell_type": "code",
   "execution_count": 10,
   "metadata": {},
   "outputs": [
    {
     "data": {
      "text/html": [
       "<span style=\"None\">Running query in &#x27;duckdb:///../../database/data.duckdb&#x27;</span>"
      ],
      "text/plain": [
       "Running query in 'duckdb:///../../database/data.duckdb'"
      ]
     },
     "metadata": {},
     "output_type": "display_data"
    },
    {
     "data": {
      "application/vnd.jupyter.widget-view+json": {
       "model_id": "566336bdef1a4dc6a9802de981555d87",
       "version_major": 2,
       "version_minor": 0
      },
      "text/plain": [
       "FloatProgress(value=0.0, layout=Layout(width='auto'), style=ProgressStyle(bar_color='black'))"
      ]
     },
     "metadata": {},
     "output_type": "display_data"
    },
    {
     "data": {
      "text/html": [
       "<table>\n",
       "    <thead>\n",
       "        <tr>\n",
       "            <th>de_partition</th>\n",
       "            <th>cdparametresiseeaux</th>\n",
       "            <th>cdparametre</th>\n",
       "            <th>libmajparametre</th>\n",
       "            <th>libminparametre</th>\n",
       "            <th>casparam</th>\n",
       "            <th>count</th>\n",
       "            <th>count_communes</th>\n",
       "        </tr>\n",
       "    </thead>\n",
       "    <tbody>\n",
       "        <tr>\n",
       "            <td>2020</td>\n",
       "            <td>PH</td>\n",
       "            <td>1302</td>\n",
       "            <td>PH </td>\n",
       "            <td>pH</td>\n",
       "            <td>None</td>\n",
       "            <td>338110</td>\n",
       "            <td>34097</td>\n",
       "        </tr>\n",
       "        <tr>\n",
       "            <td>2020</td>\n",
       "            <td>CDT25</td>\n",
       "            <td>1303</td>\n",
       "            <td>CONDUCTIVITÉ À 25°C</td>\n",
       "            <td>Conductivité à 25°C</td>\n",
       "            <td>None</td>\n",
       "            <td>263505</td>\n",
       "            <td>34101</td>\n",
       "        </tr>\n",
       "        <tr>\n",
       "            <td>2020</td>\n",
       "            <td>TEAU</td>\n",
       "            <td>1301</td>\n",
       "            <td>TEMPÉRATURE DE L'EAU</td>\n",
       "            <td>Température de l'eau</td>\n",
       "            <td>None</td>\n",
       "            <td>262440</td>\n",
       "            <td>34027</td>\n",
       "        </tr>\n",
       "        <tr>\n",
       "            <td>2020</td>\n",
       "            <td>ECOLI</td>\n",
       "            <td>1449</td>\n",
       "            <td>ESCHERICHIA COLI /100ML - MF</td>\n",
       "            <td>Escherichia coli /100ml - MF</td>\n",
       "            <td>None</td>\n",
       "            <td>257230</td>\n",
       "            <td>34098</td>\n",
       "        </tr>\n",
       "        <tr>\n",
       "            <td>2020</td>\n",
       "            <td>STRF</td>\n",
       "            <td>6455</td>\n",
       "            <td>ENTÉROCOQUES /100ML-MS</td>\n",
       "            <td>Entérocoques /100ml-MS</td>\n",
       "            <td>None</td>\n",
       "            <td>257229</td>\n",
       "            <td>34097</td>\n",
       "        </tr>\n",
       "        <tr>\n",
       "            <td>2020</td>\n",
       "            <td>CTF</td>\n",
       "            <td>1447</td>\n",
       "            <td>BACTÉRIES COLIFORMES /100ML-MS</td>\n",
       "            <td>Bactéries coliformes /100ml-MS</td>\n",
       "            <td>None</td>\n",
       "            <td>257158</td>\n",
       "            <td>34098</td>\n",
       "        </tr>\n",
       "        <tr>\n",
       "            <td>2020</td>\n",
       "            <td>TURBNFU</td>\n",
       "            <td>1295</td>\n",
       "            <td>TURBIDITÉ NÉPHÉLOMÉTRIQUE NFU</td>\n",
       "            <td>Turbidité néphélométrique NFU</td>\n",
       "            <td>None</td>\n",
       "            <td>256959</td>\n",
       "            <td>34098</td>\n",
       "        </tr>\n",
       "        <tr>\n",
       "            <td>2020</td>\n",
       "            <td>ODQ</td>\n",
       "            <td>5901</td>\n",
       "            <td>ODEUR (QUALITATIF)</td>\n",
       "            <td>Odeur (qualitatif)</td>\n",
       "            <td>None</td>\n",
       "            <td>254069</td>\n",
       "            <td>33586</td>\n",
       "        </tr>\n",
       "        <tr>\n",
       "            <td>2020</td>\n",
       "            <td>GT36_44</td>\n",
       "            <td>5441</td>\n",
       "            <td>BACT. AÉR. REVIVIFIABLES À 36°-44H</td>\n",
       "            <td>Bact. aér. revivifiables à 36°-44h</td>\n",
       "            <td>None</td>\n",
       "            <td>253182</td>\n",
       "            <td>33647</td>\n",
       "        </tr>\n",
       "        <tr>\n",
       "            <td>2020</td>\n",
       "            <td>CL2LIB</td>\n",
       "            <td>1398</td>\n",
       "            <td>CHLORE LIBRE</td>\n",
       "            <td>Chlore libre</td>\n",
       "            <td>None</td>\n",
       "            <td>253105</td>\n",
       "            <td>33181</td>\n",
       "        </tr>\n",
       "    </tbody>\n",
       "</table>\n",
       "<span style=\"font-style:italic;text-align:center;\">Truncated to <a href=\"https://jupysql.ploomber.io/en/latest/api/configuration.html#displaylimit\">displaylimit</a> of 10.</span>"
      ],
      "text/plain": [
       "+--------------+---------------------+-------------+------------------------------------+------------------------------------+----------+--------+----------------+\n",
       "| de_partition | cdparametresiseeaux | cdparametre |          libmajparametre           |          libminparametre           | casparam | count  | count_communes |\n",
       "+--------------+---------------------+-------------+------------------------------------+------------------------------------+----------+--------+----------------+\n",
       "|     2020     |          PH         |     1302    |                PH                  |                 pH                 |   None   | 338110 |     34097      |\n",
       "|     2020     |        CDT25        |     1303    |        CONDUCTIVITÉ À 25°C         |        Conductivité à 25°C         |   None   | 263505 |     34101      |\n",
       "|     2020     |         TEAU        |     1301    |        TEMPÉRATURE DE L'EAU        |        Température de l'eau        |   None   | 262440 |     34027      |\n",
       "|     2020     |        ECOLI        |     1449    |    ESCHERICHIA COLI /100ML - MF    |    Escherichia coli /100ml - MF    |   None   | 257230 |     34098      |\n",
       "|     2020     |         STRF        |     6455    |       ENTÉROCOQUES /100ML-MS       |       Entérocoques /100ml-MS       |   None   | 257229 |     34097      |\n",
       "|     2020     |         CTF         |     1447    |   BACTÉRIES COLIFORMES /100ML-MS   |   Bactéries coliformes /100ml-MS   |   None   | 257158 |     34098      |\n",
       "|     2020     |       TURBNFU       |     1295    |   TURBIDITÉ NÉPHÉLOMÉTRIQUE NFU    |   Turbidité néphélométrique NFU    |   None   | 256959 |     34098      |\n",
       "|     2020     |         ODQ         |     5901    |         ODEUR (QUALITATIF)         |         Odeur (qualitatif)         |   None   | 254069 |     33586      |\n",
       "|     2020     |       GT36_44       |     5441    | BACT. AÉR. REVIVIFIABLES À 36°-44H | Bact. aér. revivifiables à 36°-44h |   None   | 253182 |     33647      |\n",
       "|     2020     |        CL2LIB       |     1398    |            CHLORE LIBRE            |            Chlore libre            |   None   | 253105 |     33181      |\n",
       "+--------------+---------------------+-------------+------------------------------------+------------------------------------+----------+--------+----------------+\n",
       "Truncated to displaylimit of 10."
      ]
     },
     "execution_count": 10,
     "metadata": {},
     "output_type": "execute_result"
    }
   ],
   "source": [
    "%%sql\n",
    "\n",
    "with prelevements_unique as (\n",
    "    select\n",
    "        de_partition,\n",
    "        referenceprel,\n",
    "        inseecommuneprinc\n",
    "    from edc_prelevements\n",
    "    group by de_partition, referenceprel, inseecommuneprinc\n",
    ")\n",
    "select\n",
    "    edc_resultats.de_partition , cdparametresiseeaux, cdparametre, libmajparametre, libminparametre, casparam, COUNT(*) as count, COUNT(DISTINCT inseecommuneprinc) as count_communes\n",
    "from edc_resultats\n",
    "left join prelevements_unique on\n",
    "    edc_resultats.referenceprel = prelevements_unique.referenceprel\n",
    "    and edc_resultats.de_partition = prelevements_unique.de_partition\n",
    "GROUP BY edc_resultats.de_partition , cdparametresiseeaux, cdparametre, libmajparametre, libminparametre, casparam\n",
    "ORDER BY edc_resultats.de_partition, count DESC;\n",
    "\n",
    "# maintenant on peut faire nos aggrégations et compter le nombre de communes en réutilisant la même jointure"
   ]
  },
  {
   "cell_type": "code",
   "execution_count": 11,
   "metadata": {},
   "outputs": [
    {
     "data": {
      "application/vnd.jupyter.widget-view+json": {
       "model_id": "4ad299889b17469082215c54585b955a",
       "version_major": 2,
       "version_minor": 0
      },
      "text/plain": [
       "FloatProgress(value=0.0, layout=Layout(width='auto'), style=ProgressStyle(bar_color='black'))"
      ]
     },
     "metadata": {},
     "output_type": "display_data"
    }
   ],
   "source": [
    "result3_df = con.query(\"\"\"\n",
    "with prelevements_unique as (\n",
    "    select\n",
    "        de_partition,\n",
    "        referenceprel,\n",
    "        inseecommuneprinc\n",
    "    from edc_prelevements\n",
    "    group by de_partition, referenceprel, inseecommuneprinc\n",
    ")\n",
    "select\n",
    "    edc_resultats.de_partition , cdparametresiseeaux, cdparametre, libmajparametre, libminparametre, casparam, COUNT(*) as count, COUNT(DISTINCT inseecommuneprinc) as count_communes\n",
    "from edc_resultats\n",
    "left join prelevements_unique on\n",
    "    edc_resultats.referenceprel = prelevements_unique.referenceprel\n",
    "    and edc_resultats.de_partition = prelevements_unique.de_partition\n",
    "GROUP BY edc_resultats.de_partition , cdparametresiseeaux, cdparametre, libmajparametre, libminparametre, casparam\n",
    "ORDER BY edc_resultats.de_partition, count DESC;\n",
    "\"\"\").to_df()"
   ]
  },
  {
   "cell_type": "markdown",
   "metadata": {},
   "source": [
    "## Génération du Excel de sortie\n"
   ]
  },
  {
   "cell_type": "code",
   "execution_count": 12,
   "metadata": {},
   "outputs": [],
   "source": [
    "# on crée un fichier excel avec 3 onglets, un onglet par résultat\n",
    "\n",
    "import pandas as pd\n",
    "\n",
    "result1_df = result1.DataFrame()  # noqa: F821\n",
    "result2_df = result2.DataFrame()  # noqa: F821\n",
    "# result3_df = result3.DataFrame()\n",
    "\n",
    "with pd.ExcelWriter(\"output.xlsx\", engine=\"xlsxwriter\") as writer:\n",
    "    result1_df.to_excel(writer, sheet_name=\"Sheet1\")\n",
    "    result2_df.to_excel(writer, sheet_name=\"Sheet2\")\n",
    "    result3_df.to_excel(writer, sheet_name=\"Sheet3\")"
   ]
  }
 ],
 "metadata": {
  "kernelspec": {
   "display_name": ".venv",
   "language": "python",
   "name": "python3"
  },
  "language_info": {
   "codemirror_mode": {
    "name": "ipython",
    "version": 3
   },
   "file_extension": ".py",
   "mimetype": "text/x-python",
   "name": "python",
   "nbconvert_exporter": "python",
   "pygments_lexer": "ipython3",
   "version": "3.12.5"
  }
 },
 "nbformat": 4,
 "nbformat_minor": 2
}
